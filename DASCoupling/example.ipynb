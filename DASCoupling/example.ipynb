{
 "cells": [
  {
   "cell_type": "code",
   "execution_count": null,
   "metadata": {},
   "outputs": [],
   "source": [
    "from DASLowFreqProcessing import spool,terra_io,lfproc\n",
    "import numpy as np\n",
    "import scipy.fftpack as ft"
   ]
  },
  {
   "cell_type": "code",
   "execution_count": null,
   "metadata": {},
   "outputs": [],
   "source": [
    "from DASCoupling import data, corrcoef, functions"
   ]
  },
  {
   "cell_type": "code",
   "execution_count": null,
   "metadata": {},
   "outputs": [],
   "source": [
    "DAS = data.data()\n",
    "DAS.read_sweep(69, '5416_220524_192640_288000.sgy', '/Users/veneziafollingstad/Desktop/The Business/FieldSessionProcessing/2022_05_24_vibroseis_data/')\n",
    "DAS.read_data('/Users/veneziafollingstad/Desktop/The Business/FieldSessionProcessing/UTC-YMD20220524-HMS183838.173')\n",
    "DAS.correlate()"
   ]
  },
  {
   "cell_type": "code",
   "execution_count": null,
   "metadata": {},
   "outputs": [],
   "source": [
    "DAS.plot_sweep()"
   ]
  },
  {
   "cell_type": "code",
   "execution_count": null,
   "metadata": {},
   "outputs": [],
   "source": [
    "DAS.plot()"
   ]
  },
  {
   "cell_type": "code",
   "execution_count": null,
   "metadata": {},
   "outputs": [],
   "source": [
    "DAS.plot_powerspec(np.abs(ft.rfft(DAS.corr_data,axis=0))[0:3500,:], 219)"
   ]
  }
 ],
 "metadata": {
  "kernelspec": {
   "display_name": "Python 3 (ipykernel)",
   "language": "python",
   "name": "python3"
  },
  "language_info": {
   "codemirror_mode": {
    "name": "ipython",
    "version": 3
   },
   "file_extension": ".py",
   "mimetype": "text/x-python",
   "name": "python",
   "nbconvert_exporter": "python",
   "pygments_lexer": "ipython3",
   "version": "3.9.7"
  }
 },
 "nbformat": 4,
 "nbformat_minor": 2
}
